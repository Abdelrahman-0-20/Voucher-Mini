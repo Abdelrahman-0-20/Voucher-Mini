{
 "cells": [
  {
   "cell_type": "code",
   "execution_count": 4,
   "id": "7e065928",
   "metadata": {},
   "outputs": [
    {
     "name": "stdout",
     "output_type": "stream",
     "text": [
      "Do you have a voucher? (yes/no): yes\n",
      "Enter the price: 5000\n",
      "The final price is $4000.0.\n"
     ]
    }
   ],
   "source": [
    "v = input(\"Do you have a voucher? (yes/no): \").strip().lower()  \n",
    "price = float(input(\"Enter the price: \"))  \n",
    "\n",
    "discount = 0.2 * price if v == \"yes\" else 0  \n",
    "final_price = price - discount  \n",
    "\n",
    "if v in [\"yes\", \"no\"]:  \n",
    "    print(f\"The final price is ${final_price:.2f}.\")  \n",
    "else:  \n",
    "    print(\"Invalid input. Please enter 'yes' or 'no'.\")"
   ]
  },
  {
   "cell_type": "code",
   "execution_count": null,
   "id": "fedd9714",
   "metadata": {},
   "outputs": [],
   "source": []
  },
  {
   "cell_type": "code",
   "execution_count": null,
   "id": "4ef939c9",
   "metadata": {},
   "outputs": [],
   "source": []
  },
  {
   "cell_type": "code",
   "execution_count": null,
   "id": "6460662e",
   "metadata": {},
   "outputs": [],
   "source": [
    "import tkinter as tk  \n",
    "from tkinter import *  \n",
    "\n",
    "def calculate_final_price():  \n",
    "    try:  \n",
    "        price = float(price_entry.get())  \n",
    "        discount = 0.2 * price if voucher_var.get().strip().lower() == \"yes\" else 0  \n",
    "        messagebox.showinfo(\"final Price\", f\"The final price is ${price - discount:.2f}.\")  \n",
    "    except ValueError:  \n",
    "        messagebox.showerror(\"input error\", \"Please enter a valid price.\")  \n",
    "\n",
    "root = tk.Tk()  \n",
    "root.title(\"Voucher Calculator\")  \n",
    "\n",
    "tk.Label(root, text=\"Do you have a voucher? (yes/no):\").pack()  \n",
    "voucher_var = tk.StringVar()  \n",
    "voucher_entry = tk.Entry(root, textvariable=voucher_var)  \n",
    "voucher_entry.pack()  \n",
    "\n",
    "tk.Label(root, text=\"enter the price:\").pack()  \n",
    "price_entry = tk.Entry(root)  \n",
    "price_entry.pack()  \n",
    "\n",
    "tk.Button(root, text=\"calculate Final Price\", command=calculate_final_price).pack()  \n",
    "\n",
    "\n",
    "root.mainloop()"
   ]
  },
  {
   "cell_type": "code",
   "execution_count": null,
   "id": "ecf6a5f1",
   "metadata": {},
   "outputs": [],
   "source": []
  },
  {
   "cell_type": "code",
   "execution_count": null,
   "id": "174806a8",
   "metadata": {},
   "outputs": [],
   "source": []
  },
  {
   "cell_type": "code",
   "execution_count": null,
   "id": "36164ec3",
   "metadata": {},
   "outputs": [],
   "source": []
  }
 ],
 "metadata": {
  "kernelspec": {
   "display_name": "Python 3 (ipykernel)",
   "language": "python",
   "name": "python3"
  },
  "language_info": {
   "codemirror_mode": {
    "name": "ipython",
    "version": 3
   },
   "file_extension": ".py",
   "mimetype": "text/x-python",
   "name": "python",
   "nbconvert_exporter": "python",
   "pygments_lexer": "ipython3",
   "version": "3.11.9"
  }
 },
 "nbformat": 4,
 "nbformat_minor": 5
}
